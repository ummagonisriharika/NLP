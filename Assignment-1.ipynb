{
  "nbformat": 4,
  "nbformat_minor": 0,
  "metadata": {
    "colab": {
      "name": "Assignment-1.ipynb",
      "provenance": [],
      "authorship_tag": "ABX9TyMKzedNwfAMM7IKXEjioqMT",
      "include_colab_link": true
    },
    "kernelspec": {
      "name": "python3",
      "display_name": "Python 3"
    },
    "language_info": {
      "name": "python"
    }
  },
  "cells": [
    {
      "cell_type": "markdown",
      "metadata": {
        "id": "view-in-github",
        "colab_type": "text"
      },
      "source": [
        "<a href=\"https://colab.research.google.com/github/ummagonisriharika/NLP/blob/main/Assignment-1.ipynb\" target=\"_parent\"><img src=\"https://colab.research.google.com/assets/colab-badge.svg\" alt=\"Open In Colab\"/></a>"
      ]
    },
    {
      "cell_type": "markdown",
      "metadata": {
        "id": "mEibQ1FmInRi"
      },
      "source": [
        "Are  you  fascinated  by  the  amount  of  text  data  available  on  the  internet?  Are  you \n",
        "looking  for  ways  to  work  with  this  text  data  but  aren’t  sure  where  to  begin? \n",
        "Machines, after all, recognize numbers, not the letters of our language. And that can \n",
        "be a tricky landscape to navigate in machine learning."
      ]
    },
    {
      "cell_type": "markdown",
      "metadata": {
        "id": "qNnxRq6NJNFF"
      },
      "source": [
        "Solving  an  NLP  problem  is  a  multi-stage  process.  We  need  to  clean  the  unstructured  text  data  first \n",
        "before we can even think about getting to the modeling stage. Cleaning the data consists of a few key \n",
        "steps:\n",
        "1. Split the above paragraph into sentences"
      ]
    },
    {
      "cell_type": "code",
      "metadata": {
        "colab": {
          "base_uri": "https://localhost:8080/"
        },
        "id": "nrdTxve_PH22",
        "outputId": "8708b3f1-3f3e-4a63-e124-a9be8e5c493d"
      },
      "source": [
        "import nltk\n",
        "nltk.download('punkt')"
      ],
      "execution_count": 1,
      "outputs": [
        {
          "output_type": "stream",
          "name": "stdout",
          "text": [
            "[nltk_data] Downloading package punkt to /root/nltk_data...\n",
            "[nltk_data]   Unzipping tokenizers/punkt.zip.\n"
          ]
        },
        {
          "output_type": "execute_result",
          "data": {
            "text/plain": [
              "True"
            ]
          },
          "metadata": {},
          "execution_count": 1
        }
      ]
    },
    {
      "cell_type": "code",
      "metadata": {
        "id": "e_R4rXE3IV1t"
      },
      "source": [
        "text=\"\"\"Are you fascinated by the amount of text data available on the internet? Are you looking for ways to work with this text data but aren’t sure where to begin? Machines, after all, recognize numbers, not the letters of our language. And that can be a tricky landscape to navigate in machine learning.\n",
        "\"\"\""
      ],
      "execution_count": 2,
      "outputs": []
    },
    {
      "cell_type": "code",
      "metadata": {
        "id": "Ytj9EG5IJdjm"
      },
      "source": [
        "from nltk.tokenize import sent_tokenize"
      ],
      "execution_count": 3,
      "outputs": []
    },
    {
      "cell_type": "code",
      "metadata": {
        "id": "ndsRIupDJhn9"
      },
      "source": [
        "t1=''\n",
        "t1=sent_tokenize(text)"
      ],
      "execution_count": 4,
      "outputs": []
    },
    {
      "cell_type": "code",
      "metadata": {
        "colab": {
          "base_uri": "https://localhost:8080/"
        },
        "id": "mTo1c-UWKJ1o",
        "outputId": "9f87a2d8-5711-4826-b7cb-ab97c93a906e"
      },
      "source": [
        "for s in t1:\n",
        "    print(s)"
      ],
      "execution_count": 5,
      "outputs": [
        {
          "output_type": "stream",
          "name": "stdout",
          "text": [
            "Are you fascinated by the amount of text data available on the internet?\n",
            "Are you looking for ways to work with this text data but aren’t sure where to begin?\n",
            "Machines, after all, recognize numbers, not the letters of our language.\n",
            "And that can be a tricky landscape to navigate in machine learning.\n"
          ]
        }
      ]
    },
    {
      "cell_type": "markdown",
      "metadata": {
        "id": "oTbIyuL3QmWr"
      },
      "source": [
        "Are  you  fascinated  by  the  amount  of  text  data  available  on  the  internet?  Are  you \n",
        "looking  for  ways  to  work  with  this  text  data  but  aren’t  sure  where  to  begin? \n",
        "Machines, after all, recognize numbers, not the letters of our language. And that can \n",
        "be a tricky landscape to navigate in machine learning."
      ]
    },
    {
      "cell_type": "markdown",
      "metadata": {
        "id": "EOK8HzbMPaQx"
      },
      "source": [
        "2. Split the above paragraph into words"
      ]
    },
    {
      "cell_type": "code",
      "metadata": {
        "colab": {
          "base_uri": "https://localhost:8080/"
        },
        "id": "O15hyBSiPiZR",
        "outputId": "27e78408-a782-4e84-bf86-f67b3494e650"
      },
      "source": [
        "for i in range(len(text)):\n",
        "    i=text.split()\n",
        "    \n",
        "print(i)"
      ],
      "execution_count": 6,
      "outputs": [
        {
          "output_type": "stream",
          "name": "stdout",
          "text": [
            "['Are', 'you', 'fascinated', 'by', 'the', 'amount', 'of', 'text', 'data', 'available', 'on', 'the', 'internet?', 'Are', 'you', 'looking', 'for', 'ways', 'to', 'work', 'with', 'this', 'text', 'data', 'but', 'aren’t', 'sure', 'where', 'to', 'begin?', 'Machines,', 'after', 'all,', 'recognize', 'numbers,', 'not', 'the', 'letters', 'of', 'our', 'language.', 'And', 'that', 'can', 'be', 'a', 'tricky', 'landscape', 'to', 'navigate', 'in', 'machine', 'learning.']\n"
          ]
        }
      ]
    },
    {
      "cell_type": "markdown",
      "metadata": {
        "id": "bK69Umq_PonO"
      },
      "source": [
        "3. Find stem and lemma words for the given words?\n",
        "“cats\"\n",
        "\"trouble\"\n",
        "\"troubling\"\n",
        "\"troubled\"\n",
        "“having”\n",
        "“Corriendo”\n",
        "“at”\n",
        "“was”"
      ]
    },
    {
      "cell_type": "code",
      "metadata": {
        "id": "j6fhGp91PsTG"
      },
      "source": [
        "from nltk.stem import PorterStemmer \n",
        "from nltk.tokenize import word_tokenize"
      ],
      "execution_count": 7,
      "outputs": []
    },
    {
      "cell_type": "code",
      "metadata": {
        "id": "Uff7tFPpPzjA"
      },
      "source": [
        "w1=[\"cats\",\"trouble\",\"troubling\",\"troubled\",\"having\",\"Corriendo\",\"at\",\"was\"]\n",
        "a1=PorterStemmer()"
      ],
      "execution_count": 8,
      "outputs": []
    },
    {
      "cell_type": "code",
      "metadata": {
        "colab": {
          "base_uri": "https://localhost:8080/"
        },
        "id": "y8IYKB3uP3KH",
        "outputId": "bef5f582-3668-4f7b-82ba-63eafade4145"
      },
      "source": [
        "for i in w1:\n",
        "    print(a1.stem(i))"
      ],
      "execution_count": 9,
      "outputs": [
        {
          "output_type": "stream",
          "name": "stdout",
          "text": [
            "cat\n",
            "troubl\n",
            "troubl\n",
            "troubl\n",
            "have\n",
            "corriendo\n",
            "at\n",
            "wa\n"
          ]
        }
      ]
    },
    {
      "cell_type": "markdown",
      "metadata": {
        "id": "bTeeshIXP7ax"
      },
      "source": [
        "4. Find stop words from the given paragraph?\n"
      ]
    },
    {
      "cell_type": "markdown",
      "metadata": {
        "id": "Vhv1yT4aQvOM"
      },
      "source": [
        "“The NLTK library is one of the oldest and most commonly used Python libraries for Natural Language Processing. NLTK supports stop word removal, and you can find the list of stop words in the corpus module. To remove stop words from a sentence, you can divide your text into words and then remove the word if it exits in the list of stop words provided by NLTK.”"
      ]
    },
    {
      "cell_type": "code",
      "metadata": {
        "colab": {
          "base_uri": "https://localhost:8080/"
        },
        "id": "86aVFegFSalv",
        "outputId": "0d66f1df-ba91-4372-df02-9c145bd8b0da"
      },
      "source": [
        "import nltk\n",
        "nltk.download('stopwords')"
      ],
      "execution_count": 10,
      "outputs": [
        {
          "output_type": "stream",
          "name": "stdout",
          "text": [
            "[nltk_data] Downloading package stopwords to /root/nltk_data...\n",
            "[nltk_data]   Unzipping corpora/stopwords.zip.\n"
          ]
        },
        {
          "output_type": "execute_result",
          "data": {
            "text/plain": [
              "True"
            ]
          },
          "metadata": {},
          "execution_count": 10
        }
      ]
    },
    {
      "cell_type": "code",
      "metadata": {
        "id": "e5JL1MvxN1xc"
      },
      "source": [
        "text1=\"\"\"\n",
        "“The NLTK library is one of the oldest and most commonly used Python libraries for Natural Language Processing. NLTK supports stop word removal, and you can find the list of stop words in the corpus module. To remove stop words from a sentence, you can divide your text into words and then remove the word if it exits in the list of stop words provided by NLTK.”\n",
        "\"\"\""
      ],
      "execution_count": 11,
      "outputs": []
    },
    {
      "cell_type": "code",
      "metadata": {
        "id": "5006j5_cP9Jv"
      },
      "source": [
        "from nltk.corpus import stopwords\n",
        "stop_words=set(stopwords.words(\"english\"))\n",
        "words=word_tokenize(text1)\n",
        "l1=[]\n",
        "for w in words:\n",
        "    if w not in stop_words:\n",
        "        l1.append(w)"
      ],
      "execution_count": 12,
      "outputs": []
    },
    {
      "cell_type": "code",
      "metadata": {
        "colab": {
          "base_uri": "https://localhost:8080/"
        },
        "id": "93XnwC63QJu-",
        "outputId": "8b3a838b-5ad0-4963-c71f-49b51d93fdd2"
      },
      "source": [
        "print(l1)"
      ],
      "execution_count": 13,
      "outputs": [
        {
          "output_type": "stream",
          "name": "stdout",
          "text": [
            "['“', 'The', 'NLTK', 'library', 'one', 'oldest', 'commonly', 'used', 'Python', 'libraries', 'Natural', 'Language', 'Processing', '.', 'NLTK', 'supports', 'stop', 'word', 'removal', ',', 'find', 'list', 'stop', 'words', 'corpus', 'module', '.', 'To', 'remove', 'stop', 'words', 'sentence', ',', 'divide', 'text', 'words', 'remove', 'word', 'exits', 'list', 'stop', 'words', 'provided', 'NLTK', '.', '”']\n"
          ]
        }
      ]
    },
    {
      "cell_type": "markdown",
      "metadata": {
        "id": "WZKNdlPFQ4xO"
      },
      "source": [
        "“The NLTK library is one of the oldest and most commonly used Python libraries for Natural Language Processing. NLTK supports stop word removal, and you can find the list of stop words in the corpus module. To remove stop words from a sentence, you can divide your text into words and then remove the word if it exits in the list of stop words provided by NLTK.”"
      ]
    },
    {
      "cell_type": "markdown",
      "metadata": {
        "id": "48BZoDU6QPCz"
      },
      "source": [
        "5. From the above paragraph print frequency of each word using NLTK?"
      ]
    },
    {
      "cell_type": "code",
      "metadata": {
        "colab": {
          "base_uri": "https://localhost:8080/"
        },
        "id": "eQEqPhNsN17o",
        "outputId": "363da1c4-c47b-4c51-ec16-1c466e9e7165"
      },
      "source": [
        "from nltk.probability import FreqDist\n",
        "t1=[t for t in text1.split()]\n",
        "f1=FreqDist(t1)\n",
        "l1=[(k,v) for k, v in f1.items()]\n",
        "print(l1)"
      ],
      "execution_count": 14,
      "outputs": [
        {
          "output_type": "stream",
          "name": "stdout",
          "text": [
            "[('“The', 1), ('NLTK', 2), ('library', 1), ('is', 1), ('one', 1), ('of', 3), ('the', 5), ('oldest', 1), ('and', 3), ('most', 1), ('commonly', 1), ('used', 1), ('Python', 1), ('libraries', 1), ('for', 1), ('Natural', 1), ('Language', 1), ('Processing.', 1), ('supports', 1), ('stop', 4), ('word', 2), ('removal,', 1), ('you', 2), ('can', 2), ('find', 1), ('list', 2), ('words', 4), ('in', 2), ('corpus', 1), ('module.', 1), ('To', 1), ('remove', 2), ('from', 1), ('a', 1), ('sentence,', 1), ('divide', 1), ('your', 1), ('text', 1), ('into', 1), ('then', 1), ('if', 1), ('it', 1), ('exits', 1), ('provided', 1), ('by', 1), ('NLTK.”', 1)]\n"
          ]
        }
      ]
    }
  ]
}